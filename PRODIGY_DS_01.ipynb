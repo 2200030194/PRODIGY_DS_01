{
 "cells": [
  {
   "cell_type": "code",
   "execution_count": 6,
   "id": "b931927c-17fc-432f-a83f-5904af4538f5",
   "metadata": {},
   "outputs": [
    {
     "name": "stdout",
     "output_type": "stream",
     "text": [
      "Index(['Country Code', 'Region', 'IncomeGroup', 'SpecialNotes', 'TableName',\n",
      "       'Unnamed: 5'],\n",
      "      dtype='object')\n",
      "Column 'age' not found in the DataFrame. Check the column names in your CSV file.\n"
     ]
    }
   ],
   "source": [
    "import pandas as pd\n",
    "import matplotlib.pyplot as plt\n",
    "\n",
    "# Load the dataset from the local file\n",
    "file_path = 'C:\\Users/suhaa/OneDrive/Desktop/bank.csv'\n",
    "data = pd.read_csv(file_path, sep=';')\n",
    "\n",
    "# Plot the distribution of the 'job' variable\n",
    "plt.figure(figsize=(10,6))\n",
    "data['job'].value_counts().plot(kind='bar', color='skyblue')\n",
    "plt.title('Distribution of Job Titles')\n",
    "plt.xlabel('Job')\n",
    "plt.ylabel('Frequency')\n",
    "plt.xticks(rotation=45, ha='right')\n",
    "plt.show()\n",
    "\n",
    "# Plot the distribution of the 'age' variable\n",
    "plt.figure(figsize=(10,6))\n",
    "data['age'].plot(kind='hist', bins=30, color='skyblue', edgecolor='black')\n",
    "plt.title('Distribution of Age')\n",
    "plt.xlabel('Age')\n",
    "plt.ylabel('Frequency')\n",
    "plt.show()"
   ]
  },
  {
   "cell_type": "code",
   "execution_count": null,
   "id": "2ac53e6f-b074-401b-9a18-d627009b832e",
   "metadata": {},
   "outputs": [],
   "source": []
  },
  {
   "cell_type": "code",
   "execution_count": null,
   "id": "4dcdc8c7-c2b4-48c0-912c-819505377503",
   "metadata": {},
   "outputs": [],
   "source": []
  },
  {
   "cell_type": "code",
   "execution_count": null,
   "id": "ce4ca52d-9137-4319-b5ec-9fbc24e10966",
   "metadata": {},
   "outputs": [],
   "source": []
  }
 ],
 "metadata": {
  "kernelspec": {
   "display_name": "Python 3 (ipykernel)",
   "language": "python",
   "name": "python3"
  },
  "language_info": {
   "codemirror_mode": {
    "name": "ipython",
    "version": 3
   },
   "file_extension": ".py",
   "mimetype": "text/x-python",
   "name": "python",
   "nbconvert_exporter": "python",
   "pygments_lexer": "ipython3",
   "version": "3.11.7"
  }
 },
 "nbformat": 4,
 "nbformat_minor": 5
}
